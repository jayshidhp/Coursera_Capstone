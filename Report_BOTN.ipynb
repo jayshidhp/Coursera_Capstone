{
 "cells": [
  {
   "cell_type": "markdown",
   "metadata": {},
   "source": [
    "# Capstone Project - The Battle of Neighborhoods\n",
    "\n",
    "## Research Neighborhood for Business/Travel\n",
    "\n",
    "### INTRODUCTION\n",
    "People research new places for various reasons. Some are into travel where as some people look for businesses. I present a list of top places in a city based on neighborhood to find solutions to people's research.\n",
    "\n",
    "### DATA\n",
    "In order to accomplish this goal, latitudes and longitudes of Richmond, Virginia are used. The gov. website offers simple, accurate and up-to-date database all cities and their locations of the US. From this data, I will select  latitude and longitude values and will explore the venues around the city by utilizing Foursquare API.\n",
    "\n",
    "I will use the acquired location data to explore the nearby venues from the Foursquare API. Using the \"explore\" option, I will look for top 10 venues in 10 km radius for each city center and I get \"Venue\", \"Venue Latitude\", \"Venue Longitude\" and \"Venue Category\" columns.\n",
    "\n",
    "### METHODOLOGY\n",
    "\n",
    "After pivoting and groping the data at hand, we get a new version of the data which includes unique categories as columns. The cells contain the numbers of corresponding categories in the city. Utilizing this data, I will apply DBSCAN from sklearn library which runs DBSCAN clustering from vector array or distance matrix. After the tuning of the parameters of the model the result will contains 3 different clusters.\n",
    "\n",
    "### RESULT\n",
    "\n",
    "The resulting map is as follows:\n",
    "\n",
    "\n",
    "\n",
    "It can be seen that there are two dominant clusters with red and orange marks. So, going to these places will offer somehow similar taste to their visitors. However other colors will serve different taste in terms of art venues.\n",
    "\n",
    "### DISCUSSION\n",
    "Different epsilon parameters in the DBSCAN Model return different number of clusters with similar results. The best result is as presented. However I believe that the results are quite satisfying.\n",
    "\n",
    "### CONCLUSION\n",
    "To sum up, one can go to different cities after proper exploration. Also, if used properly, this tool can also be used for one who is migrating to a new neighborhood."
   ]
  }
 ],
 "metadata": {
  "kernelspec": {
   "display_name": "Python 3",
   "language": "python",
   "name": "python3"
  },
  "language_info": {
   "codemirror_mode": {
    "name": "ipython",
    "version": 3
   },
   "file_extension": ".py",
   "mimetype": "text/x-python",
   "name": "python",
   "nbconvert_exporter": "python",
   "pygments_lexer": "ipython3",
   "version": "3.6.8"
  }
 },
 "nbformat": 4,
 "nbformat_minor": 2
}
